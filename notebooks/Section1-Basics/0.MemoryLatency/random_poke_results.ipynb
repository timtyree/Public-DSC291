{
 "cells": [
  {
   "cell_type": "markdown",
   "metadata": {},
   "source": [
    "# Pretty printing of results from random_poke.py"
   ]
  },
  {
   "cell_type": "code",
   "execution_count": 1,
   "metadata": {},
   "outputs": [],
   "source": [
    "import pickle as pk"
   ]
  },
  {
   "cell_type": "code",
   "execution_count": 2,
   "metadata": {},
   "outputs": [
    {
     "ename": "FileNotFoundError",
     "evalue": "[Errno 2] No such file or directory: 'stats.pkl'",
     "output_type": "error",
     "traceback": [
      "\u001b[0;31m---------------------------------------------------------------------------\u001b[0m",
      "\u001b[0;31mFileNotFoundError\u001b[0m                         Traceback (most recent call last)",
      "\u001b[0;32m<ipython-input-2-233d6107f1c0>\u001b[0m in \u001b[0;36m<module>\u001b[0;34m\u001b[0m\n\u001b[1;32m      1\u001b[0m \u001b[0;31m#with open('m5ad.2xlarge_performance/worker-0/stats.pkl','rb') as pkl:\u001b[0m\u001b[0;34m\u001b[0m\u001b[0;34m\u001b[0m\u001b[0;34m\u001b[0m\u001b[0m\n\u001b[0;32m----> 2\u001b[0;31m \u001b[0;32mwith\u001b[0m \u001b[0mopen\u001b[0m\u001b[0;34m(\u001b[0m\u001b[0;34m'stats.pkl'\u001b[0m\u001b[0;34m,\u001b[0m\u001b[0;34m'rb'\u001b[0m\u001b[0;34m)\u001b[0m \u001b[0;32mas\u001b[0m \u001b[0mpkl\u001b[0m\u001b[0;34m:\u001b[0m\u001b[0;34m\u001b[0m\u001b[0;34m\u001b[0m\u001b[0m\n\u001b[0m\u001b[1;32m      3\u001b[0m     \u001b[0mstat\u001b[0m\u001b[0;34m=\u001b[0m\u001b[0mpk\u001b[0m\u001b[0;34m.\u001b[0m\u001b[0mload\u001b[0m\u001b[0;34m(\u001b[0m\u001b[0mpkl\u001b[0m\u001b[0;34m)\u001b[0m\u001b[0;34m\u001b[0m\u001b[0;34m\u001b[0m\u001b[0m\n\u001b[1;32m      4\u001b[0m \u001b[0mstat\u001b[0m\u001b[0;34m.\u001b[0m\u001b[0mkeys\u001b[0m\u001b[0;34m(\u001b[0m\u001b[0;34m)\u001b[0m\u001b[0;34m\u001b[0m\u001b[0;34m\u001b[0m\u001b[0m\n",
      "\u001b[0;31mFileNotFoundError\u001b[0m: [Errno 2] No such file or directory: 'stats.pkl'"
     ]
    }
   ],
   "source": [
    "#with open('m5ad.2xlarge_performance/worker-0/stats.pkl','rb') as pkl:\n",
    "with open('stats.pkl','rb') as pkl:\n",
    "    stat=pk.load(pkl)\n",
    "stat.keys()"
   ]
  },
  {
   "cell_type": "markdown",
   "metadata": {},
   "source": [
    "## File Creation Statistics"
   ]
  },
  {
   "cell_type": "code",
   "execution_count": 63,
   "metadata": {
    "scrolled": false
   },
   "outputs": [
    {
     "name": "stdout",
     "output_type": "stream",
     "text": [
      "## Time per byte to write data block\n",
      "\n",
      "| file Size  | block size |    Memory  |   Disk     | \n",
      "|------------|------------|------------|------------|\n",
      "| 1.0e+03   | 1.0e+01   | 2.7e-06   | 7.6e-07   |\n",
      "| 1.0e+03   | 1.0e+02   | 3.4e-07   | 1.3e-06   |\n",
      "| 1.0e+03   | 1.0e+03   | 2.4e-08   | 6.2e-07   |\n",
      "| 1.0e+06   | 1.0e+04   | 2.4e-09   | 4.5e-09   |\n",
      "| 1.0e+06   | 1.0e+05   | 2.0e-09   | 1.8e-09   |\n",
      "| 1.0e+06   | 1.0e+06   | 1.9e-10   | 1.4e-09   |\n",
      "| 1.0e+09   | 1.0e+06   | 1.5e-10   | 1.7e-09   |\n",
      "| 1.0e+09   | 1.0e+09   | 4.1e-10   | 1.4e-09   |\n",
      "| 1.0e+10   | 1.0e+06   | 1.5e-10   | 1.2e-09   |\n",
      "| 1.0e+10   | 1.0e+09   | 4.4e-10   | 3.2e-09   |\n"
     ]
    }
   ],
   "source": [
    "R=stat['creation_stats']\n",
    "\n",
    "print('## Time per byte to write data block\\n')\n",
    "print('| file Size  | block size |    Memory  |   Disk     | ')\n",
    "print('|------------|------------|------------|------------|')\n",
    "for row in R:\n",
    "    for key in row.keys():\n",
    "        locals()[key] = row[key]\n",
    "    print('| %.1e   | %.1e   | %.1e   | %.1e   |'%(m*n,n,t_mem,t_disk))"
   ]
  },
  {
   "cell_type": "markdown",
   "metadata": {},
   "source": [
    "## Time per byte to write data block\n",
    "\n",
    "| file Size  | block size |    Memory  |   Disk     | \n",
    "|------------|------------|------------|------------|\n",
    "| 1.0e+03   | 1.0e+01   | 3.3e-06   | 7.8e-07   |\n",
    "| 1.0e+03   | 1.0e+02   | 1.7e-07   | 8.2e-07   |\n",
    "| 1.0e+03   | 1.0e+03   | 2.1e-08   | 5.0e-07   |\n",
    "| 1.0e+06   | 1.0e+04   | 1.4e-08   | 4.6e-09   |\n",
    "| 1.0e+06   | 1.0e+05   | 1.9e-09   | 1.4e-09   |\n",
    "| 1.0e+06   | 1.0e+06   | 1.7e-10   | 3.3e-09   |\n",
    "| 1.0e+09   | 1.0e+06   | 1.4e-10   | 2.0e-09   |\n",
    "| 1.0e+09   | 1.0e+09   | 4.5e-10   | 1.9e-09   |\n",
    "| 1.0e+10   | 1.0e+06   | 1.8e-10   | 1.2e-09   |\n",
    "| 1.0e+10   | 1.0e+09   | 4.5e-10   | 2.6e-09   |"
   ]
  },
  {
   "cell_type": "markdown",
   "metadata": {},
   "source": [
    "## Sequential Read Time"
   ]
  },
  {
   "cell_type": "code",
   "execution_count": 64,
   "metadata": {},
   "outputs": [
    {
     "name": "stdout",
     "output_type": "stream",
     "text": [
      "## Sequential Reading and Sequential summing. \n",
      "\n",
      "|   Size   | read time | rd time pb | calc time | calc time pb|\n",
      "|----------|-----------|----------|-----------|-----------|\n",
      "| 1.00e+03 | 2.58e-04 | 2.58e-07 | 1.55e-04 | 1.55e-07 |\n",
      "| 1.00e+06 | 4.07e-04 | 4.07e-10 | 1.10e-03 | 1.10e-09 |\n",
      "| 1.00e+09 | 6.15e-01 | 6.15e-10 | 1.01e+00 | 1.01e-09 |\n",
      "| 1.00e+10 | 9.06e+00 | 9.06e-10 | 1.61e+01 | 1.61e-09 |\n"
     ]
    }
   ],
   "source": [
    "R=stat['consec_disk_reads']\n",
    "R[0]\n",
    "\n",
    "print('## Sequential Reading and Sequential summing. \\n')\n",
    "print('|   Size   | read time | rd time pb | calc time | calc time pb|')\n",
    "print('|----------|-----------|----------|-----------|-----------|')\n",
    "\n",
    "for row in R:\n",
    "    for key in row.keys():\n",
    "        locals()[key] = row[key]\n",
    "    print('| %.2e | %.2e | %.2e | %.2e | %.2e |'%\\\n",
    "          (L,read_time,read_time_per_byte,calc_time,calc_time_per_byte))"
   ]
  },
  {
   "cell_type": "markdown",
   "metadata": {},
   "source": [
    "## Sequential Reading and Sequential summing. \n",
    "\n",
    "|   Size   | read time | rd time pb | calc time | calc time pb|\n",
    "|----------|-----------|----------|-----------|-----------|\n",
    "| 1.00e+03 | 2.58e-04 | 2.58e-07 | 1.55e-04 | 1.55e-07 |\n",
    "| 1.00e+06 | 4.07e-04 | 4.07e-10 | 1.10e-03 | 1.10e-09 |\n",
    "| 1.00e+09 | 6.15e-01 | 6.15e-10 | 1.01e+00 | 1.01e-09 |\n",
    "| 1.00e+10 | 9.06e+00 | 9.06e-10 | 1.61e+01 | 1.61e-09 |"
   ]
  },
  {
   "cell_type": "markdown",
   "metadata": {},
   "source": [
    "## Random Access Time"
   ]
  },
  {
   "cell_type": "code",
   "execution_count": 65,
   "metadata": {
    "scrolled": false
   },
   "outputs": [
    {
     "name": "stdout",
     "output_type": "stream",
     "text": [
      "## Random Poking in memory and disk \n",
      "\n",
      "|   Size   | Malloc t/b |Mem Mean | Mem Std  | Disk Mean | Disk Std |\n",
      "|----------|------------|---------|----------|-----------|----------|\n",
      "| 1.00e+03 | 2.78e-07 | 3.04e-06 | 3.90e-06 | 2.20e-05 | 3.83e-05 |\n",
      "| 1.00e+06 | 5.33e-10 | 2.96e-06 | 2.05e-06 | 3.40e-05 | 4.43e-05 |\n",
      "| 1.00e+09 | 4.16e-10 | 3.04e-06 | 1.66e-06 | 1.47e-04 | 5.03e-05 |\n",
      "| 1.00e+10 | 4.78e-10 | 4.06e-06 | 3.22e-06 | 1.44e-04 | 3.77e-05 |\n"
     ]
    }
   ],
   "source": [
    "R=stat['Random_pokes']\n",
    "\n",
    "print('## Random Poking in memory and disk \\n')\n",
    "print('|   Size   | Malloc t/b |Mem Mean | Mem Std  | Disk Mean | Disk Std |')\n",
    "print('|----------|------------|---------|----------|-----------|----------|')\n",
    "\n",
    "for row in R:\n",
    "    for key in row.keys():\n",
    "        locals()[key] = row[key]\n",
    "    print('| %.2e | %.2e | %.2e | %.2e | %.2e | %.2e |'%\\\n",
    "          (size,dt_alloc/size,memory__mean,memory__std,file__mean,file__std))"
   ]
  },
  {
   "cell_type": "markdown",
   "metadata": {},
   "source": [
    "## Random Poking in memory and disk \n",
    "\n",
    "|   Size   | Malloc t/b |Mem Mean | Mem Std  | Disk Mean | Disk Std |\n",
    "|----------|------------|---------|----------|-----------|----------|\n",
    "| 1.00e+10 | 6.36e-10 | 6.65e-06 | 1.22e-05 | 1.30e-04 | 5.18e-05 |\n",
    "| 1.00e+10 | 6.36e-10 | 6.65e-06 | 1.22e-05 | 1.30e-04 | 5.18e-05 |\n",
    "| 1.00e+10 | 6.36e-10 | 6.65e-06 | 1.22e-05 | 1.30e-04 | 5.18e-05 |\n",
    "| 1.00e+10 | 6.36e-10 | 6.65e-06 | 1.22e-05 | 1.30e-04 | 5.18e-05 |\n",
    "\n",
    "### Note:\n",
    "* Mem Mean is $\\approx 3*10^{-7}$ which is equivalent to about $1000$ clock cycles ($3\\times 10^{-10}$ seconds)\n",
    "* Mem mean does not change much (about a factor of 5) between 1 byte and 1 GB\n",
    "* The standard deviation of Mem is larger than the Mean - implies long tails.\n",
    "* Disk Mean is $10^{-4} - 10^{-5}$ second which is about a factor  of $10^5$ slower than the clock rate.\n",
    "\n",
    "**Main Lesson** random access is very expensive. This implies that we want to work on one block of memory for a long time, to amortize the cost of getting this block through the memory Heirarchy."
   ]
  },
  {
   "cell_type": "code",
   "execution_count": null,
   "metadata": {},
   "outputs": [],
   "source": []
  },
  {
   "cell_type": "code",
   "execution_count": null,
   "metadata": {},
   "outputs": [],
   "source": []
  }
 ],
 "metadata": {
  "kernelspec": {
   "display_name": "Python 3",
   "language": "python",
   "name": "python3"
  },
  "language_info": {
   "codemirror_mode": {
    "name": "ipython",
    "version": 3
   },
   "file_extension": ".py",
   "mimetype": "text/x-python",
   "name": "python",
   "nbconvert_exporter": "python",
   "pygments_lexer": "ipython3",
   "version": "3.7.7"
  }
 },
 "nbformat": 4,
 "nbformat_minor": 2
}
