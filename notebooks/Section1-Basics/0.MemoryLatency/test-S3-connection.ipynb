{
 "cells": [
  {
   "cell_type": "markdown",
   "metadata": {},
   "source": [
    "## Using Boto to connect with S3\n",
    "\n",
    "This notebook demonstrates how to use Boto to interact with S3.\n",
    "\n",
    "Here are pointers to the boto documentation:\n",
    "* [API Document](https://boto3.amazonaws.com/v1/documentation/api/latest/reference/services/s3.html)\n",
    "* [Examples](https://boto3.amazonaws.com/v1/documentation/api/latest/guide/s3-examples.html)"
   ]
  },
  {
   "cell_type": "code",
   "execution_count": 11,
   "metadata": {},
   "outputs": [
    {
     "name": "stdout",
     "output_type": "stream",
     "text": [
      "credentials.sh creds.yaml~    newCreds.txt\r\n",
      "creds.yaml     neighbors.txt  newCreds.txt~\r\n"
     ]
    },
    {
     "data": {
      "text/plain": [
       "'/Users/yoavfreund/academic.papers/Courses/BigDataAnalytics/DSC291_2020/BigData-Spark-private/notebooks/Section1-Basics/0.MemoryLatency'"
      ]
     },
     "execution_count": 11,
     "metadata": {},
     "output_type": "execute_result"
    }
   ],
   "source": [
    "!ls ~/VaultDSC291/\n",
    "from time import time\n",
    "%pwd"
   ]
  },
  {
   "cell_type": "code",
   "execution_count": 12,
   "metadata": {},
   "outputs": [
    {
     "data": {
      "text/plain": [
       "dict_keys(['access_key_id', 'secret_access_key', 'email_address', 'key_name', 'ssh_key'])"
      ]
     },
     "execution_count": 12,
     "metadata": {},
     "output_type": "execute_result"
    }
   ],
   "source": [
    "# read credentials from yaml file\n",
    "import yaml\n",
    "#yaml_file='/home/ubuntu/VaultDSC291/creds.yaml'\n",
    "yaml_file='/Users/yoavfreund/VaultDSC291/creds.yaml'\n",
    "with open(yaml_file,'rb') as yml:\n",
    "    creds=yaml.load(yml,Loader=yaml.FullLoader)\n",
    "creds=creds['Yoav-DSC291']\n",
    "\n",
    "creds.keys()"
   ]
  },
  {
   "cell_type": "code",
   "execution_count": 13,
   "metadata": {},
   "outputs": [],
   "source": [
    "import boto3\n",
    "\n",
    "s3 = boto3.resource(\n",
    "    's3',\n",
    "    aws_access_key_id=creds['access_key_id'],\n",
    "    aws_secret_access_key=creds['secret_access_key'],\n",
    ")"
   ]
  },
  {
   "cell_type": "markdown",
   "metadata": {
    "heading_collapsed": true
   },
   "source": [
    "## List all buckets"
   ]
  },
  {
   "cell_type": "code",
   "execution_count": 14,
   "metadata": {
    "hidden": true
   },
   "outputs": [
    {
     "name": "stdout",
     "output_type": "stream",
     "text": [
      "s3.Bucket(name='aws-logs-891063097137-us-west-2')\n",
      "s3.Bucket(name='dsc291-blocks')\n",
      "s3.Bucket(name='yoavfreundtest')\n"
     ]
    }
   ],
   "source": [
    "for bucket in s3.buckets.all():\n",
    "    print(bucket)"
   ]
  },
  {
   "cell_type": "markdown",
   "metadata": {
    "heading_collapsed": true
   },
   "source": [
    "## List all files in a bucket"
   ]
  },
  {
   "cell_type": "code",
   "execution_count": 15,
   "metadata": {
    "hidden": true
   },
   "outputs": [
    {
     "name": "stdout",
     "output_type": "stream",
     "text": [
      "s3.ObjectSummary(bucket_name='yoavfreundtest', key='measurement_logs/BlockData10')\n",
      "s3.ObjectSummary(bucket_name='yoavfreundtest', key='measurement_logs/BlockData1000')\n",
      "s3.ObjectSummary(bucket_name='yoavfreundtest', key='measurement_logs/BlockData1000000')\n",
      "s3.ObjectSummary(bucket_name='yoavfreundtest', key='measurement_logs/stats.pkl')\n",
      "s3.ObjectSummary(bucket_name='yoavfreundtest', key='scratch/measurement_logs/BlockData1000')\n",
      "s3.ObjectSummary(bucket_name='yoavfreundtest', key='scratch/measurement_logs/BlockData1000000')\n",
      "s3.ObjectSummary(bucket_name='yoavfreundtest', key='scratch/measurement_logs/BlockData1000000000')\n",
      "s3.ObjectSummary(bucket_name='yoavfreundtest', key='test_block')\n"
     ]
    },
    {
     "data": {
      "text/plain": [
       "['scratch/measurement_logs/BlockData1000',\n",
       " 'scratch/measurement_logs/BlockData1000000',\n",
       " 'scratch/measurement_logs/BlockData1000000000']"
      ]
     },
     "execution_count": 15,
     "metadata": {},
     "output_type": "execute_result"
    }
   ],
   "source": [
    "bucket_name = \"yoavfreundtest\"\n",
    "bucket = s3.Bucket(bucket_name)\n",
    "keys=[]\n",
    "for file_object in bucket.objects.limit(20):\n",
    "    print(file_object)\n",
    "    key=file_object.key\n",
    "    if 'scratch' in key:\n",
    "        keys.append(key)\n",
    "keys"
   ]
  },
  {
   "cell_type": "code",
   "execution_count": 16,
   "metadata": {
    "hidden": true
   },
   "outputs": [
    {
     "data": {
      "text/plain": [
       "[('scratch/measurement_logs/BlockData1000', 2000),\n",
       " ('scratch/measurement_logs/BlockData1000000', 1000006),\n",
       " ('scratch/measurement_logs/BlockData1000000000', 1000000000)]"
      ]
     },
     "execution_count": 16,
     "metadata": {},
     "output_type": "execute_result"
    }
   ],
   "source": [
    "pairs=[('scratch/measurement_logs/BlockData1000', 2000),\n",
    " ('scratch/measurement_logs/BlockData1000000', 1000006),\n",
    " ('scratch/measurement_logs/BlockData1000000000', 1000000000)]\n",
    "pairs"
   ]
  },
  {
   "cell_type": "markdown",
   "metadata": {
    "heading_collapsed": true
   },
   "source": [
    "## Read an object to memory"
   ]
  },
  {
   "cell_type": "code",
   "execution_count": 23,
   "metadata": {
    "hidden": true,
    "scrolled": true
   },
   "outputs": [
    {
     "name": "stdout",
     "output_type": "stream",
     "text": [
      "scratch/measurement_logs/BlockData1000, len=2000,time=1.14, time per byte=0.000569\n",
      "scratch/measurement_logs/BlockData1000000, len=1000006,time=1.5, time per byte=1.5e-06\n"
     ]
    },
    {
     "data": {
      "text/plain": [
       "[('scratch/measurement_logs/BlockData1000', 2000),\n",
       " ('scratch/measurement_logs/BlockData1000000', 1000006),\n",
       " ('scratch/measurement_logs/BlockData1000000000', 1000000000)]"
      ]
     },
     "execution_count": 23,
     "metadata": {},
     "output_type": "execute_result"
    }
   ],
   "source": [
    "#%%timeit\n",
    "for key,length in pairs[:2]:\n",
    "    t0=time()\n",
    "    obj = s3.Object(bucket_name, key)\n",
    "    obj_in_mem = obj.get()['Body'].read().decode('utf-8')\n",
    "    t1=time()\n",
    "    length=len(obj_in_mem)\n",
    "    print('%s, len=%d,time=%.3g, time per byte=%.3g'%(key,length,t1-t0,(t1-t0)/length))"
   ]
  },
  {
   "cell_type": "code",
   "execution_count": 14,
   "metadata": {
    "hidden": true
   },
   "outputs": [
    {
     "data": {
      "text/plain": [
       "4000014"
      ]
     },
     "execution_count": 14,
     "metadata": {},
     "output_type": "execute_result"
    }
   ],
   "source": []
  },
  {
   "cell_type": "markdown",
   "metadata": {
    "heading_collapsed": true
   },
   "source": [
    "## Download an object to a local file on disk"
   ]
  },
  {
   "cell_type": "code",
   "execution_count": 18,
   "metadata": {
    "hidden": true
   },
   "outputs": [],
   "source": [
    "import os"
   ]
  },
  {
   "cell_type": "code",
   "execution_count": 24,
   "metadata": {
    "hidden": true
   },
   "outputs": [
    {
     "name": "stdout",
     "output_type": "stream",
     "text": [
      "scratch/measurement_logs/BlockData1000, len=2000,time=0.324, time per byte=0.000162\n",
      "scratch/measurement_logs/BlockData1000000, len=1000006,time=0.441, time per byte=4.41e-07\n"
     ]
    }
   ],
   "source": [
    "#%%timeit\n",
    "for key,length in pairs[:2]:\n",
    "    t0=time()\n",
    "    obj = s3.Object(bucket_name, key)\n",
    "    obj.download_file(os.path.expanduser(\"~/block\"))\n",
    "    t1=time()\n",
    "    print('%s, len=%d,time=%.3g, time per byte=%.3g'%(key,length,t1-t0,(t1-t0)/length))"
   ]
  },
  {
   "cell_type": "code",
   "execution_count": 25,
   "metadata": {
    "hidden": true
   },
   "outputs": [
    {
     "name": "stdout",
     "output_type": "stream",
     "text": [
      "-rw-r--r--  1 yoavfreund  staff   977K Apr  7 12:19 /Users/yoavfreund/block\r\n"
     ]
    }
   ],
   "source": [
    "!ls -lh ~/block"
   ]
  },
  {
   "cell_type": "markdown",
   "metadata": {
    "heading_collapsed": true
   },
   "source": [
    "## Upload file from local disk to bucket"
   ]
  },
  {
   "cell_type": "code",
   "execution_count": 31,
   "metadata": {
    "hidden": true
   },
   "outputs": [
    {
     "name": "stdout",
     "output_type": "stream",
     "text": [
      "mkdir: /tmp/measurement_logs/: File exists\r\n"
     ]
    }
   ],
   "source": [
    "!mkdir /tmp/measurement_logs/\n",
    "!ln -s /tmp scratch"
   ]
  },
  {
   "cell_type": "code",
   "execution_count": 32,
   "metadata": {
    "hidden": true
   },
   "outputs": [
    {
     "data": {
      "text/plain": [
       "[]"
      ]
     },
     "execution_count": 32,
     "metadata": {},
     "output_type": "execute_result"
    }
   ],
   "source": [
    "filenames=!ls -l scratch/measurement_logs/\n",
    "filenames"
   ]
  },
  {
   "cell_type": "code",
   "execution_count": 31,
   "metadata": {
    "hidden": true
   },
   "outputs": [
    {
     "name": "stdout",
     "output_type": "stream",
     "text": [
      "scratch/measurement_logs/BlockData1000000000\n",
      "scratch/measurement_logs/BlockData1000000000 total time=10.217659\n",
      "scratch/measurement_logs/BlockData1000000\n",
      "scratch/measurement_logs/BlockData1000000 total time=0.093103\n",
      "scratch/measurement_logs/BlockData1000\n",
      "scratch/measurement_logs/BlockData1000 total time=0.028431\n",
      "scratch/measurement_logs/BlockData1000000000\n",
      "scratch/measurement_logs/BlockData1000000000 total time=14.292300\n",
      "scratch/measurement_logs/BlockData1000000\n",
      "scratch/measurement_logs/BlockData1000000 total time=0.098198\n",
      "scratch/measurement_logs/BlockData1000\n",
      "scratch/measurement_logs/BlockData1000 total time=0.087480\n",
      "scratch/measurement_logs/BlockData1000000000\n",
      "scratch/measurement_logs/BlockData1000000000 total time=6.865798\n",
      "scratch/measurement_logs/BlockData1000000\n",
      "scratch/measurement_logs/BlockData1000000 total time=0.043784\n",
      "scratch/measurement_logs/BlockData1000\n",
      "scratch/measurement_logs/BlockData1000 total time=0.029240\n",
      "scratch/measurement_logs/BlockData1000000000\n",
      "scratch/measurement_logs/BlockData1000000000 total time=17.620628\n",
      "scratch/measurement_logs/BlockData1000000\n",
      "scratch/measurement_logs/BlockData1000000 total time=0.099948\n",
      "scratch/measurement_logs/BlockData1000\n",
      "scratch/measurement_logs/BlockData1000 total time=0.026320\n",
      "scratch/measurement_logs/BlockData1000000000\n",
      "scratch/measurement_logs/BlockData1000000000 total time=17.584471\n",
      "scratch/measurement_logs/BlockData1000000\n",
      "scratch/measurement_logs/BlockData1000000 total time=0.071437\n",
      "scratch/measurement_logs/BlockData1000\n",
      "scratch/measurement_logs/BlockData1000 total time=0.029780\n",
      "scratch/measurement_logs/BlockData1000000000\n",
      "scratch/measurement_logs/BlockData1000000000 total time=6.154176\n",
      "scratch/measurement_logs/BlockData1000000\n",
      "scratch/measurement_logs/BlockData1000000 total time=0.090310\n",
      "scratch/measurement_logs/BlockData1000\n",
      "scratch/measurement_logs/BlockData1000 total time=0.025039\n",
      "scratch/measurement_logs/BlockData1000000000\n",
      "scratch/measurement_logs/BlockData1000000000 total time=12.083468\n",
      "scratch/measurement_logs/BlockData1000000\n",
      "scratch/measurement_logs/BlockData1000000 total time=0.099896\n",
      "scratch/measurement_logs/BlockData1000\n",
      "scratch/measurement_logs/BlockData1000 total time=0.024460\n",
      "scratch/measurement_logs/BlockData1000000000\n",
      "scratch/measurement_logs/BlockData1000000000 total time=6.231215\n",
      "scratch/measurement_logs/BlockData1000000\n",
      "scratch/measurement_logs/BlockData1000000 total time=0.131331\n",
      "scratch/measurement_logs/BlockData1000\n",
      "scratch/measurement_logs/BlockData1000 total time=0.064174\n",
      "11.7 s ± 4.79 s per loop (mean ± std. dev. of 7 runs, 1 loop each)\n"
     ]
    }
   ],
   "source": [
    "#%%timeit\n",
    "from glob import glob\n",
    "from time import time\n",
    "\n",
    "s3 = boto3.client('s3',\n",
    "    aws_access_key_id=creds['access_key_id'],\n",
    "    aws_secret_access_key=creds['secret_access_key'])\n",
    "\n",
    "for file in glob('scratch/measurement_logs/*'):\n",
    "    print(file)\n",
    "    t0=time()\n",
    "    with open(file, \"rb\") as f:\n",
    "        s3.upload_fileobj(f, bucket_name, file)\n",
    "    t1=time()\n",
    "    print('%s total time=%f'%(file,t1-t0))"
   ]
  },
  {
   "cell_type": "code",
   "execution_count": 1,
   "metadata": {
    "hidden": true
   },
   "outputs": [
    {
     "data": {
      "text/plain": [
       "0.4033970276008492"
      ]
     },
     "execution_count": 1,
     "metadata": {},
     "output_type": "execute_result"
    }
   ],
   "source": [
    "3.8 / 9.42"
   ]
  },
  {
   "cell_type": "code",
   "execution_count": null,
   "metadata": {
    "hidden": true
   },
   "outputs": [],
   "source": []
  }
 ],
 "metadata": {
  "kernelspec": {
   "display_name": "Python 3",
   "language": "python",
   "name": "python3"
  },
  "language_info": {
   "codemirror_mode": {
    "name": "ipython",
    "version": 3
   },
   "file_extension": ".py",
   "mimetype": "text/x-python",
   "name": "python",
   "nbconvert_exporter": "python",
   "pygments_lexer": "ipython3",
   "version": "3.7.7"
  },
  "toc": {
   "base_numbering": 1,
   "nav_menu": {},
   "number_sections": true,
   "sideBar": true,
   "skip_h1_title": false,
   "title_cell": "Table of Contents",
   "title_sidebar": "Contents",
   "toc_cell": false,
   "toc_position": {},
   "toc_section_display": true,
   "toc_window_display": false
  }
 },
 "nbformat": 4,
 "nbformat_minor": 4
}
