{
 "cells": [
  {
   "cell_type": "markdown",
   "metadata": {},
   "source": [
    "# Pretty printing of results from random_poke.py\n",
    "\n",
    "By combining all the blocks we get a single block of markdown"
   ]
  },
  {
   "cell_type": "code",
   "execution_count": 2,
   "metadata": {},
   "outputs": [
    {
     "ename": "FileNotFoundError",
     "evalue": "[Errno 2] No such file or directory: 'm5ad.2xlarge_performance/worker-0/stats.pkl'",
     "output_type": "error",
     "traceback": [
      "\u001b[0;31m---------------------------------------------------------------------------\u001b[0m",
      "\u001b[0;31mFileNotFoundError\u001b[0m                         Traceback (most recent call last)",
      "\u001b[0;32m<ipython-input-2-501d7c1996d8>\u001b[0m in \u001b[0;36m<module>\u001b[0;34m\u001b[0m\n\u001b[1;32m      1\u001b[0m \u001b[0;32mimport\u001b[0m \u001b[0mpickle\u001b[0m \u001b[0;32mas\u001b[0m \u001b[0mpk\u001b[0m\u001b[0;34m\u001b[0m\u001b[0;34m\u001b[0m\u001b[0m\n\u001b[1;32m      2\u001b[0m \u001b[0;34m\u001b[0m\u001b[0m\n\u001b[0;32m----> 3\u001b[0;31m \u001b[0;32mwith\u001b[0m \u001b[0mopen\u001b[0m\u001b[0;34m(\u001b[0m\u001b[0;34m'm5ad.2xlarge_performance/worker-0/stats.pkl'\u001b[0m\u001b[0;34m,\u001b[0m\u001b[0;34m'rb'\u001b[0m\u001b[0;34m)\u001b[0m \u001b[0;32mas\u001b[0m \u001b[0mpkl\u001b[0m\u001b[0;34m:\u001b[0m\u001b[0;34m\u001b[0m\u001b[0;34m\u001b[0m\u001b[0m\n\u001b[0m\u001b[1;32m      4\u001b[0m \u001b[0;31m# with open('stats.pkl','rb') as pkl:\u001b[0m\u001b[0;34m\u001b[0m\u001b[0;34m\u001b[0m\u001b[0;34m\u001b[0m\u001b[0m\n\u001b[1;32m      5\u001b[0m     \u001b[0mstat\u001b[0m\u001b[0;34m=\u001b[0m\u001b[0mpk\u001b[0m\u001b[0;34m.\u001b[0m\u001b[0mload\u001b[0m\u001b[0;34m(\u001b[0m\u001b[0mpkl\u001b[0m\u001b[0;34m)\u001b[0m\u001b[0;34m\u001b[0m\u001b[0;34m\u001b[0m\u001b[0m\n",
      "\u001b[0;31mFileNotFoundError\u001b[0m: [Errno 2] No such file or directory: 'm5ad.2xlarge_performance/worker-0/stats.pkl'"
     ]
    }
   ],
   "source": [
    "import pickle as pk\n",
    "\n",
    "# with open('m5ad.2xlarge_performance/worker-0/stats.pkl','rb') as pkl:\n",
    "# with open('stats.pkl','rb') as pkl:\n",
    "    stat=pk.load(pkl)\n",
    "stat.keys()\n",
    "\n",
    "## File Creation Statistics\n",
    "\n",
    "R=stat['creation_stats']\n",
    "\n",
    "print('## Time per byte to write data block\\n')\n",
    "print('| file Size  | block size |    Memory  |   Disk     | ')\n",
    "print('|------------|------------|------------|------------|')\n",
    "for row in R:\n",
    "    for key in row.keys():\n",
    "        locals()[key] = row[key]\n",
    "    print('| %.1e   | %.1e   | %.1e   | %.1e   |'%(m*n,n,t_mem,t_disk))\n",
    "\n",
    "\n",
    "\n",
    "## Sequential Read Time\n",
    "\n",
    "R=stat['consec_disk_reads']\n",
    "R[0]\n",
    "\n",
    "print('\\n## Sequential Reading and Sequential summing. \\n')\n",
    "print('|   Size   | read time | rd time pb | calc time | calc time pb|')\n",
    "print('|----------|-----------|----------|-----------|-----------|')\n",
    "\n",
    "for row in R:\n",
    "    for key in row.keys():\n",
    "        locals()[key] = row[key]\n",
    "    print('| %.2e | %.2e | %.2e | %.2e | %.2e |'%\\\n",
    "          (L,read_time,read_time_per_byte,calc_time,calc_time_per_byte))\n",
    "\n",
    "## Random Access Time\n",
    "\n",
    "R=stat['Random_pokes']\n",
    "\n",
    "print('\\n## Random Poking in memory and disk \\n')\n",
    "print('|   Size   | Malloc t/b |Mem Mean | Mem Std  | Disk Mean | Disk Std |')\n",
    "print('|----------|------------|---------|----------|-----------|----------|')\n",
    "\n",
    "for row in R:\n",
    "    for key in row.keys():\n",
    "        locals()[key] = row[key]\n",
    "    print('| %.2e | %.2e | %.2e | %.2e | %.2e | %.2e |'%\\\n",
    "          (size,dt_alloc/size,memory__mean,memory__std,file__mean,file__std))"
   ]
  },
  {
   "cell_type": "markdown",
   "metadata": {},
   "source": [
    "## Time per byte to write data block\n",
    "\n",
    "| file Size  | block size |    Memory  |   Disk     | \n",
    "|------------|------------|------------|------------|\n",
    "| 1.0e+03   | 1.0e+01   | 4.7e-06   | 8.3e-07   |\n",
    "| 1.0e+03   | 1.0e+02   | 3.2e-07   | 8.8e-07   |\n",
    "| 1.0e+03   | 1.0e+03   | 2.3e-08   | 7.2e-07   |\n",
    "| 1.0e+06   | 1.0e+04   | 2.5e-09   | 6.1e-09   |\n",
    "| 1.0e+06   | 1.0e+05   | 2.5e-09   | 1.6e-09   |\n",
    "| 1.0e+06   | 1.0e+06   | 4.7e-10   | 1.1e-09   |\n",
    "| 1.0e+09   | 1.0e+06   | 2.0e-10   | 3.2e-09   |\n",
    "| 1.0e+09   | 1.0e+09   | 4.3e-10   | 2.6e-09   |\n",
    "| 5.0e+09   | 1.0e+06   | 1.6e-10   | 2.5e-09   |\n",
    "| 5.0e+09   | 1.0e+09   | 4.6e-10   | 2.2e-09   |\n",
    "\n",
    "## Sequential Reading and Sequential summing. \n",
    "\n",
    "|   Size   | read time | rd time pb | calc time | calc time pb|\n",
    "|----------|-----------|----------|-----------|-----------|\n",
    "| 1.00e+03 | 3.51e-04 | 3.51e-07 | 6.70e-05 | 6.70e-08 |\n",
    "| 1.00e+06 | 2.34e-04 | 2.34e-10 | 9.74e-04 | 9.74e-10 |\n",
    "| 1.00e+09 | 5.41e-01 | 5.41e-10 | 9.69e-01 | 9.69e-10 |\n",
    "| 5.00e+09 | 4.39e+00 | 8.78e-10 | 5.25e+00 | 1.05e-09 |\n",
    "\n",
    "## Random Poking in memory and disk \n",
    "\n",
    "|   Size   | Malloc t/b |Mem Mean | Mem Std  | Disk Mean | Disk Std |\n",
    "|----------|------------|---------|----------|-----------|----------|\n",
    "| 1.00e+03 | 3.72e-08 | 3.14e-06 | 1.85e-06 | 1.85e-05 | 3.20e-05 |\n",
    "| 1.00e+06 | 3.11e-10 | 2.85e-06 | 1.01e-06 | 3.21e-05 | 4.82e-05 |\n",
    "| 1.00e+09 | 4.13e-10 | 2.93e-06 | 1.29e-06 | 1.46e-04 | 2.56e-05 |\n",
    "| 5.00e+09 | 4.32e-10 | 3.33e-06 | 2.34e-06 | 7.04e-05 | 7.56e-05 |\n",
    "\n",
    "### Note:\n",
    "* Mem Mean is $\\approx 3*10^{-7}$ which is equivalent to about $1000$ clock cycles ($3\\times 10^{-10}$ seconds)\n",
    "* Mem mean does not change much (about a factor of 5) between 1 byte and 1 GB\n",
    "* The standard deviation of Mem is larger than the Mean - implies long tails.\n",
    "* Disk Mean is $10^{-4} - 10^{-5}$ second which is about a factor  of $10^5$ slower than the clock rate.\n",
    "\n",
    "**Main Lesson** random access is very expensive. This implies that we want to work on one block of memory for a long time, to amortize the cost of getting this block through the memory Heirarchy."
   ]
  },
  {
   "cell_type": "code",
   "execution_count": null,
   "metadata": {},
   "outputs": [],
   "source": []
  },
  {
   "cell_type": "code",
   "execution_count": null,
   "metadata": {},
   "outputs": [],
   "source": []
  }
 ],
 "metadata": {
  "kernelspec": {
   "display_name": "Python 3",
   "language": "python",
   "name": "python3"
  }
 },
 "nbformat": 4,
 "nbformat_minor": 2
}
